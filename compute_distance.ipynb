{
 "cells": [
  {
   "cell_type": "code",
   "execution_count": null,
   "metadata": {},
   "outputs": [],
   "source": [
    "import pandas as pd\n",
    "\n",
    "# Tạo DataFrame tạm thời rỗng\n",
    "temp_address = pd.DataFrame()\n",
    "\n",
    "# Gán các cột từ DataFrame ban đầu vào DataFrame tạm thời\n",
    "temp_address = temp_address.assign(Street=real_estate_df['Street'], Ward=real_estate_df['Ward'], District=real_estate_df['District'], Province=real_estate_df['Province'])\n",
    "\n",
    "# Hàm tùy chỉnh để gộp các cột thành một chuỗi mới\n",
    "def merge_columns(row):\n",
    "    values = [str(row['Street']), str(row['Ward']), str(row['District']), str(row['Province'])]\n",
    "    return ', '.join([value for value in values if value != 'nan'])\n",
    "\n",
    "# Áp dụng hàm tùy chỉnh cho mỗi hàng và tạo cột mới\n",
    "temp_address['Address'] = temp_address.apply(merge_columns, axis=1)\n",
    "\n",
    "# In DataFrame kết quả\n",
    "temp_address.head()"
   ]
  },
  {
   "cell_type": "code",
   "execution_count": null,
   "metadata": {},
   "outputs": [],
   "source": [
    "from geopy.geocoders import Nominatim\n",
    "from geopy.distance import geodesic\n",
    "\n",
    "def get_lat_lon(address):\n",
    "    geolocator = Nominatim(user_agent=\"https\")\n",
    "    try:\n",
    "        location = geolocator.geocode(address)\n",
    "    except:\n",
    "        try:\n",
    "            location = geolocator.geocode(address)\n",
    "        except:\n",
    "            location = geolocator.geocode(address)\n",
    "    if location:\n",
    "        return location.latitude, location.longitude\n",
    "    elif address == \"Phường 15, Quận 5, TP Hồ Chí Minh\":\n",
    "        return [10.755628372856584, 106.65348173545244]\n",
    "    else:\n",
    "        return None\n",
    "    \n",
    "target_location = \"Ben Thanh Tourist Market, Quach Thi Trang Square, Ben Thanh Ward, District 1, Ho Chi Minh City\"\n",
    "target_coordinates = get_lat_lon(target_location)"
   ]
  },
  {
   "cell_type": "code",
   "execution_count": null,
   "metadata": {},
   "outputs": [],
   "source": [
    "def compute_distance(row, target_location):\n",
    "    # Extract latitude and longitude from the row\n",
    "    lat1, lon1 = row[0], row[1]\n",
    "    \n",
    "    # Compute the distance using geodesic function\n",
    "    distance = geodesic((lat1, lon1), target_location).kilometers\n",
    "    \n",
    "    return distance"
   ]
  },
  {
   "cell_type": "code",
   "execution_count": null,
   "metadata": {},
   "outputs": [],
   "source": [
    "#extract address from temp_address to list\n",
    "list_address = temp_address[\"Address\"].to_list()\n",
    "\n",
    "# create list of distances\n",
    "list_distance = [] \n",
    "\n",
    "# loop through list_address and compute the distance\n",
    "for i in range(0, len(list_address)):\n",
    "  coordinates = get_lat_lon(list_address[i]) # get latitude and longitude\n",
    "  distance = compute_distance(coordinates, target_coordinates) # compute distance from coordinates to target coordinates\n",
    "  list_distance.append(distance)"
   ]
  },
  {
   "cell_type": "code",
   "execution_count": null,
   "metadata": {},
   "outputs": [],
   "source": [
    "dictions = {'Distance' : list_distance}\n",
    "pd.DataFrame(dictions).to_csv('Distance.csv')"
   ]
  },
  {
   "cell_type": "code",
   "execution_count": null,
   "metadata": {},
   "outputs": [],
   "source": []
  }
 ],
 "metadata": {
  "language_info": {
   "name": "python"
  }
 },
 "nbformat": 4,
 "nbformat_minor": 2
}
